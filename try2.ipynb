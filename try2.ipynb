{
  "nbformat": 4,
  "nbformat_minor": 0,
  "metadata": {
    "colab": {
      "name": "Question b).ipynb",
      "provenance": [],
      "authorship_tag": "ABX9TyPW2tG22t3imVjj2ulJFiFv",
      "include_colab_link": true
    },
    "kernelspec": {
      "name": "python3",
      "display_name": "Python 3"
    },
    "language_info": {
      "name": "python"
    }
  },
  "cells": [
    {
      "cell_type": "markdown",
      "metadata": {
        "id": "view-in-github",
        "colab_type": "text"
      },
      "source": [
        "<a href=\"https://colab.research.google.com/github/elmimansur/NN-Practices/blob/main/try2.ipynb\" target=\"_parent\"><img src=\"https://colab.research.google.com/assets/colab-badge.svg\" alt=\"Open In Colab\"/></a>"
      ]
    },
    {
      "cell_type": "code",
      "execution_count": null,
      "metadata": {
        "id": "yf0D_n490ITu"
      },
      "outputs": [],
      "source": [
        "from keras.utils.np_utils import to_categorical\n",
        "import numpy as np\n",
        "from sklearn.model_selection import train_test_split\n",
        "import time"
      ]
    },
    {
      "cell_type": "code",
      "source": [
        "import tensorflow as tf\n",
        "from tensorflow import keras\n",
        "\n",
        "mnist = tf.keras.datasets.mnist\n",
        "\n",
        "(x_train, y_train),(x_test, y_test) = mnist.load_data()\n",
        "x_train, x_test = x_train / 255.0, x_test / 255.0"
      ],
      "metadata": {
        "colab": {
          "base_uri": "https://localhost:8080/"
        },
        "id": "ph-T1-s75BCb",
        "outputId": "206786a8-acfd-4259-adb7-88f4aa8048ad"
      },
      "execution_count": null,
      "outputs": [
        {
          "output_type": "stream",
          "name": "stdout",
          "text": [
            "Downloading data from https://storage.googleapis.com/tensorflow/tf-keras-datasets/mnist.npz\n",
            "11493376/11490434 [==============================] - 0s 0us/step\n",
            "11501568/11490434 [==============================] - 0s 0us/step\n"
          ]
        }
      ]
    },
    {
      "cell_type": "code",
      "source": [
        "#Reshape batches\n",
        "batch_size = 64\n",
        "num_batches = x_train.shape[0] // batch_size\n",
        "batches = np.reshape(x_train[:num_batches * batch_size, :], [num_batches, batch_size, -1])\n",
        "\n",
        "\n",
        "x_train2 = x_train.reshape(60000,784)\n",
        "x_test2 = x_test.reshape(10000,784)\n",
        "\n",
        "#One-hot-encoded versions of the labels\n",
        "y_train2 = keras.utils.to_categorical(y_train, num_classes=10)\n",
        "y_test2 = keras.utils.to_categorical(y_test, num_classes=10)"
      ],
      "metadata": {
        "id": "BeBvihaw5PxV"
      },
      "execution_count": null,
      "outputs": []
    },
    {
      "cell_type": "code",
      "source": [
        "class NeuralNetwork():\n",
        "    def __init__(self, sizes, batches=64, epochs=10, lr=0.001):\n",
        "        self.batches = batches\n",
        "        self.sizes = sizes\n",
        "        self.epochs = epochs\n",
        "        self.lr = lr\n",
        "\n",
        "        self.init_weights()\n",
        "\n",
        "    def sigmoid(self, x, derivative=False):\n",
        "        if derivative:\n",
        "            return (np.exp(-x))/((np.exp(-x)+1)**2)\n",
        "        return 1/(1 + np.exp(-x))\n",
        "\n",
        "    def softmax(self, x, derivative=False):\n",
        "        exps = np.exp(x)\n",
        "        if derivative:\n",
        "            return exps / np.sum(exps, axis=0) * (1 - exps / np.sum(exps, axis=0))\n",
        "        return exps / np.sum(exps, axis=0)\n",
        "\n",
        "    def init_weights(self):\n",
        "        self.W1 = np.random.randn(self.sizes[0],self.sizes[1])\n",
        "        self.W2 = np.random.randn(self.sizes[1],self.sizes[2])\n",
        "\n",
        "        self.b1 = np.random.randn(self.sizes[1],)\n",
        "        self.b2 = np.random.randn(self.sizes[2],)\n",
        "\n",
        "\n",
        "    def forward_pass(self, x_train,y_train):\n",
        "        self.z1 = x_train.dot(self.W1) + self.b1\n",
        "        self.a1 = self.sigmoid(self.z1)\n",
        "        \n",
        "        self.z2 = self.a1.dot(self.W2) + self.b2\n",
        "        self.a2 = self.softmax(self.z2)\n",
        "\n",
        "\n",
        "        self.error = self.a2 - y_train\n",
        "\n",
        "        return self.a2\n",
        "\n",
        "\n",
        "    def backward_pass(self,x_train,y_train):\n",
        "      self.batch = x_train.shape[0]\n",
        "\n",
        "      d_logit = y_train - self.a2\n",
        "\n",
        "      self.d_B2 = np.ones(self.batch).dot(d_logit)\n",
        "      self.d_W2 = self.a1.transpose().dot(d_logit)\n",
        "\n",
        "      d_hidden = d_logit.dot(self.W2.T)\n",
        "\n",
        "      d_k = np.multiply(np.multiply(self.a1, 1 - self.a1), d_hidden)\n",
        "\n",
        "      self.d_B1 = np.ones(self.batch).dot(d_k)\n",
        "      self.d_W1 = x_train.T.dot(d_k)\n",
        "\n",
        "\n",
        "    def update_network_parameters(self):\n",
        "      #self.backward_pass(x_train,target)\n",
        "\n",
        "      self.W2 = self.W2 - self.lr * self.d_W2\n",
        "      self.W1 = self.W1 - self.lr * self.d_W1\n",
        "      self.b1 = self.b1 - self.lr * self.d_B1\n",
        "      self.b2 = self.b2 - self.lr * self.d_B2\n",
        "\n",
        "    def compute_accuracy(self, x_test, y_test):\n",
        "        \n",
        "        predictions = []\n",
        "\n",
        "        for x, y in zip(x_test, y_test):\n",
        "            output = self.forward_pass(x,y)\n",
        "            pred = np.argmax(output)\n",
        "            predictions.append(pred == np.argmax(y))\n",
        "        \n",
        "        return np.mean(predictions)\n",
        "\n",
        "    def train(self, x_train, y_train, x_test, y_test):\n",
        "      start_time = time.time()\n",
        "      for iteration in range(self.epochs):\n",
        "        for i in range(self.batches):\n",
        "          input = batches[i] / 255\n",
        "          target = y_train2[i]\n",
        "              \n",
        "          output = network.forward_pass(x_train,y_train)\n",
        "          network.backward_pass(x_train,y_train)\n",
        "          network.update_network_parameters()\n",
        "              \n",
        "          accuracy = self.compute_accuracy(x_test, y_test)\n",
        "          print('Epoch: {0}, Time Spent: {1:.2f}s, Accuracy: {2:.2f}%'.format(iteration+1, time.time() - start_time, accuracy * 100))"
      ],
      "metadata": {
        "id": "tNRQ8tLB0N5m"
      },
      "execution_count": null,
      "outputs": []
    },
    {
      "cell_type": "code",
      "source": [
        "network = NeuralNetwork(sizes=[784, 100, 10])\n",
        "network.train(x_train2, y_train2, x_test2, y_test2)"
      ],
      "metadata": {
        "colab": {
          "base_uri": "https://localhost:8080/",
          "height": 694
        },
        "id": "1ABaRSss48Cz",
        "outputId": "f47b243a-38ba-4708-a39f-9a1944979ffd"
      },
      "execution_count": null,
      "outputs": [
        {
          "output_type": "stream",
          "name": "stdout",
          "text": [
            "Epoch: 1, Time Spent: 1.96s, Accuracy: 1.85%\n",
            "Epoch: 1, Time Spent: 3.81s, Accuracy: 8.92%\n"
          ]
        },
        {
          "output_type": "stream",
          "name": "stderr",
          "text": [
            "/usr/local/lib/python3.7/dist-packages/ipykernel_launcher.py:19: RuntimeWarning: invalid value encountered in true_divide\n"
          ]
        },
        {
          "output_type": "stream",
          "name": "stdout",
          "text": [
            "Epoch: 1, Time Spent: 5.71s, Accuracy: 9.80%\n",
            "Epoch: 1, Time Spent: 7.65s, Accuracy: 9.80%\n",
            "Epoch: 1, Time Spent: 9.57s, Accuracy: 9.80%\n",
            "Epoch: 1, Time Spent: 11.37s, Accuracy: 9.80%\n",
            "Epoch: 1, Time Spent: 13.27s, Accuracy: 9.80%\n",
            "Epoch: 1, Time Spent: 15.20s, Accuracy: 9.80%\n",
            "Epoch: 1, Time Spent: 17.02s, Accuracy: 9.80%\n",
            "Epoch: 1, Time Spent: 18.99s, Accuracy: 9.80%\n",
            "Epoch: 1, Time Spent: 20.88s, Accuracy: 9.80%\n",
            "Epoch: 1, Time Spent: 22.68s, Accuracy: 9.80%\n",
            "Epoch: 1, Time Spent: 24.46s, Accuracy: 9.80%\n",
            "Epoch: 1, Time Spent: 26.35s, Accuracy: 9.80%\n",
            "Epoch: 1, Time Spent: 28.31s, Accuracy: 9.80%\n",
            "Epoch: 1, Time Spent: 30.22s, Accuracy: 9.80%\n",
            "Epoch: 1, Time Spent: 32.09s, Accuracy: 9.80%\n",
            "Epoch: 1, Time Spent: 34.01s, Accuracy: 9.80%\n",
            "Epoch: 1, Time Spent: 35.86s, Accuracy: 9.80%\n",
            "Epoch: 1, Time Spent: 37.80s, Accuracy: 9.80%\n"
          ]
        },
        {
          "output_type": "error",
          "ename": "KeyboardInterrupt",
          "evalue": "ignored",
          "traceback": [
            "\u001b[0;31m---------------------------------------------------------------------------\u001b[0m",
            "\u001b[0;31mKeyboardInterrupt\u001b[0m                         Traceback (most recent call last)",
            "\u001b[0;32m<ipython-input-22-2dbb83a1e2fa>\u001b[0m in \u001b[0;36m<module>\u001b[0;34m()\u001b[0m\n\u001b[1;32m      1\u001b[0m \u001b[0mnetwork\u001b[0m \u001b[0;34m=\u001b[0m \u001b[0mNeuralNetwork\u001b[0m\u001b[0;34m(\u001b[0m\u001b[0msizes\u001b[0m\u001b[0;34m=\u001b[0m\u001b[0;34m[\u001b[0m\u001b[0;36m784\u001b[0m\u001b[0;34m,\u001b[0m \u001b[0;36m100\u001b[0m\u001b[0;34m,\u001b[0m \u001b[0;36m10\u001b[0m\u001b[0;34m]\u001b[0m\u001b[0;34m)\u001b[0m\u001b[0;34m\u001b[0m\u001b[0;34m\u001b[0m\u001b[0m\n\u001b[0;32m----> 2\u001b[0;31m \u001b[0mnetwork\u001b[0m\u001b[0;34m.\u001b[0m\u001b[0mtrain\u001b[0m\u001b[0;34m(\u001b[0m\u001b[0mx_train2\u001b[0m\u001b[0;34m,\u001b[0m \u001b[0my_train2\u001b[0m\u001b[0;34m,\u001b[0m \u001b[0mx_test2\u001b[0m\u001b[0;34m,\u001b[0m \u001b[0my_test2\u001b[0m\u001b[0;34m)\u001b[0m\u001b[0;34m\u001b[0m\u001b[0;34m\u001b[0m\u001b[0m\n\u001b[0m",
            "\u001b[0;32m<ipython-input-21-6370381ec372>\u001b[0m in \u001b[0;36mtrain\u001b[0;34m(self, x_train, y_train, x_test, y_test)\u001b[0m\n\u001b[1;32m     83\u001b[0m \u001b[0;34m\u001b[0m\u001b[0m\n\u001b[1;32m     84\u001b[0m           \u001b[0moutput\u001b[0m \u001b[0;34m=\u001b[0m \u001b[0mnetwork\u001b[0m\u001b[0;34m.\u001b[0m\u001b[0mforward_pass\u001b[0m\u001b[0;34m(\u001b[0m\u001b[0mx_train\u001b[0m\u001b[0;34m,\u001b[0m\u001b[0my_train\u001b[0m\u001b[0;34m)\u001b[0m\u001b[0;34m\u001b[0m\u001b[0;34m\u001b[0m\u001b[0m\n\u001b[0;32m---> 85\u001b[0;31m           \u001b[0mnetwork\u001b[0m\u001b[0;34m.\u001b[0m\u001b[0mbackward_pass\u001b[0m\u001b[0;34m(\u001b[0m\u001b[0mx_train\u001b[0m\u001b[0;34m,\u001b[0m\u001b[0my_train\u001b[0m\u001b[0;34m)\u001b[0m\u001b[0;34m\u001b[0m\u001b[0;34m\u001b[0m\u001b[0m\n\u001b[0m\u001b[1;32m     86\u001b[0m           \u001b[0mnetwork\u001b[0m\u001b[0;34m.\u001b[0m\u001b[0mupdate_network_parameters\u001b[0m\u001b[0;34m(\u001b[0m\u001b[0;34m)\u001b[0m\u001b[0;34m\u001b[0m\u001b[0;34m\u001b[0m\u001b[0m\n\u001b[1;32m     87\u001b[0m \u001b[0;34m\u001b[0m\u001b[0m\n",
            "\u001b[0;32m<ipython-input-21-6370381ec372>\u001b[0m in \u001b[0;36mbackward_pass\u001b[0;34m(self, x_train, y_train)\u001b[0m\n\u001b[1;32m     53\u001b[0m \u001b[0;34m\u001b[0m\u001b[0m\n\u001b[1;32m     54\u001b[0m       \u001b[0mself\u001b[0m\u001b[0;34m.\u001b[0m\u001b[0md_B1\u001b[0m \u001b[0;34m=\u001b[0m \u001b[0mnp\u001b[0m\u001b[0;34m.\u001b[0m\u001b[0mones\u001b[0m\u001b[0;34m(\u001b[0m\u001b[0mself\u001b[0m\u001b[0;34m.\u001b[0m\u001b[0mbatch\u001b[0m\u001b[0;34m)\u001b[0m\u001b[0;34m.\u001b[0m\u001b[0mdot\u001b[0m\u001b[0;34m(\u001b[0m\u001b[0md_k\u001b[0m\u001b[0;34m)\u001b[0m\u001b[0;34m\u001b[0m\u001b[0;34m\u001b[0m\u001b[0m\n\u001b[0;32m---> 55\u001b[0;31m       \u001b[0mself\u001b[0m\u001b[0;34m.\u001b[0m\u001b[0md_W1\u001b[0m \u001b[0;34m=\u001b[0m \u001b[0mx_train\u001b[0m\u001b[0;34m.\u001b[0m\u001b[0mT\u001b[0m\u001b[0;34m.\u001b[0m\u001b[0mdot\u001b[0m\u001b[0;34m(\u001b[0m\u001b[0md_k\u001b[0m\u001b[0;34m)\u001b[0m\u001b[0;34m\u001b[0m\u001b[0;34m\u001b[0m\u001b[0m\n\u001b[0m\u001b[1;32m     56\u001b[0m \u001b[0;34m\u001b[0m\u001b[0m\n\u001b[1;32m     57\u001b[0m \u001b[0;34m\u001b[0m\u001b[0m\n",
            "\u001b[0;31mKeyboardInterrupt\u001b[0m: "
          ]
        }
      ]
    },
    {
      "cell_type": "code",
      "source": [
        ""
      ],
      "metadata": {
        "id": "Jm8WNHJYF7Gw"
      },
      "execution_count": null,
      "outputs": []
    },
    {
      "cell_type": "code",
      "source": [
        "network.a2.shape"
      ],
      "metadata": {
        "colab": {
          "base_uri": "https://localhost:8080/"
        },
        "id": "5ExSdQ9C3wKI",
        "outputId": "e6cf374a-38e0-473a-b6c8-e45128054fef"
      },
      "execution_count": null,
      "outputs": [
        {
          "output_type": "execute_result",
          "data": {
            "text/plain": [
              "(60000, 10)"
            ]
          },
          "metadata": {},
          "execution_count": 23
        }
      ]
    },
    {
      "cell_type": "code",
      "source": [
        ""
      ],
      "metadata": {
        "id": "gjvaKyvU5NLS"
      },
      "execution_count": null,
      "outputs": []
    }
  ]
}