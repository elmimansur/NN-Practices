{
  "cells": [
    {
      "cell_type": "markdown",
      "metadata": {
        "id": "view-in-github",
        "colab_type": "text"
      },
      "source": [
        "<a href=\"https://colab.research.google.com/github/elmimansur/NN-Practices/blob/main/Support_VC.ipynb\" target=\"_parent\"><img src=\"https://colab.research.google.com/assets/colab-badge.svg\" alt=\"Open In Colab\"/></a>"
      ]
    },
    {
      "cell_type": "code",
      "execution_count": null,
      "id": "66f35149-efbd-457a-90d4-22a095f8eba5",
      "metadata": {
        "id": "66f35149-efbd-457a-90d4-22a095f8eba5"
      },
      "outputs": [],
      "source": [
        "import numpy as np\n",
        "import pandas as pd\n",
        "from IPython.display import display, Math, Latex"
      ]
    },
    {
      "cell_type": "markdown",
      "id": "63aa4fa8-9b1e-4fe7-b748-ead0f681ca2d",
      "metadata": {
        "id": "63aa4fa8-9b1e-4fe7-b748-ead0f681ca2d"
      },
      "source": [
        "# a"
      ]
    },
    {
      "cell_type": "markdown",
      "id": "cca01c2a-0b9b-480d-8fa3-51430514ff8d",
      "metadata": {
        "tags": [],
        "id": "cca01c2a-0b9b-480d-8fa3-51430514ff8d"
      },
      "source": [
        "The Kernel Function is:\n",
        "    \n",
        "\\begin{equation}\n",
        "\\ K(v_{1},v_{2})=(1+v_{1}^Tv_{2})^2\n",
        "\\end{equation}\n",
        "\n",
        "which can be written as,\n",
        "  \n",
        "\\begin{equation}\n",
        "\\ =(1+x_{1}x_{2}+y_{1}y_{2})^2= (1+2x_{1}x_{2}+2y_{1}y_{2}+x_{1}^2x_{2}^2+2x_{1}x_{2}y_{1}y_{2}+y_{1}^2y_{2}^2).\n",
        "\\end{equation}\n",
        "\n",
        "The elements of the a dot product in the feature space is\n",
        "\\begin{equation}\n",
        "\\phi(v_{1}^T)\\phi(v_{2})= (1,\\sqrt{2}x_{1},\\sqrt{2}y_{1},x_{1}^2,\\sqrt{2}x_{1}y_{1},y_{1}^2)^T(1,\\sqrt{2}x_{2},\\sqrt{2}y_{2},x_{2}^2,\\sqrt{2}x_{2}y_{2},y_{2}^2).\n",
        "\\end{equation}\n",
        "\n",
        "We have taken our two features (X,Y), and expanded it into five features. Where the decision boundary is\n",
        "\\begin{equation}\n",
        "\\ \\beta_{0}*1+ \\beta_{1}*\\sqrt{2}y_{i}+ \\beta_{2}*\\sqrt{2}x_{i}+ \\beta_{3}*\\sqrt{2}x_{i}y_{i}+\\beta_{4}x_{i}^2+\\beta_{5}*y_{i}^2 = 0\n",
        "\\end{equation}\n",
        "or equally,\n",
        "\\begin{equation}\n",
        "\\ \\beta_{0}*1+ \\beta_{1}*\\sqrt{2}v_{i2}+ \\beta_{2}*\\sqrt{2}v_{i1}+ \\beta_{3}*\\sqrt{2}v_{i1}v_{i2}+\\beta_{4}v_{i1}^2+\\beta_{5}*v_{i2}^2 = 0\n",
        "\\end{equation}\n",
        "\n",
        "which represents a conic section with an equation of the form,\n",
        "\\begin{equation}\n",
        "\\ f+ey+dx+cxy+by^2+ax^2= 0.\n",
        "\\end{equation}\n"
      ]
    },
    {
      "cell_type": "code",
      "execution_count": null,
      "id": "50bb71bb-d440-4fc6-a69b-728c54dc5145",
      "metadata": {
        "id": "50bb71bb-d440-4fc6-a69b-728c54dc5145"
      },
      "outputs": [],
      "source": [
        "from sklearn.svm import SVC"
      ]
    },
    {
      "cell_type": "code",
      "execution_count": null,
      "id": "9f3e87b6-e702-4bcc-bb1a-c19cc975fd43",
      "metadata": {
        "colab": {
          "base_uri": "https://localhost:8080/"
        },
        "id": "9f3e87b6-e702-4bcc-bb1a-c19cc975fd43",
        "outputId": "48aafe16-cba3-42a1-e1e5-b63acd83dc9e"
      },
      "outputs": [
        {
          "output_type": "stream",
          "name": "stdout",
          "text": [
            "Downloading data from https://storage.googleapis.com/tensorflow/tf-keras-datasets/mnist.npz\n",
            "11493376/11490434 [==============================] - 0s 0us/step\n",
            "11501568/11490434 [==============================] - 0s 0us/step\n"
          ]
        }
      ],
      "source": [
        "import tensorflow as tf\n",
        "from tensorflow import keras\n",
        "from tensorflow.keras import layers\n",
        "mnist = tf.keras.datasets.mnist\n",
        "\n",
        "(x_train, y_train),(x_test, y_test) = mnist.load_data()\n",
        "x_train, x_test = x_train / 255.0, x_test / 255.0"
      ]
    },
    {
      "cell_type": "code",
      "execution_count": null,
      "id": "c6117793-e6e9-4903-b7e4-9a00d5332b70",
      "metadata": {
        "id": "c6117793-e6e9-4903-b7e4-9a00d5332b70"
      },
      "outputs": [],
      "source": [
        "# Reshaping \n",
        "x_train2 = x_train.reshape(60000,784)\n",
        "x_test2 = x_test.reshape(10000,784)\n"
      ]
    },
    {
      "cell_type": "code",
      "execution_count": null,
      "id": "08083ea0-2482-4a52-b8f6-7dd06ed87bd0",
      "metadata": {
        "id": "08083ea0-2482-4a52-b8f6-7dd06ed87bd0"
      },
      "outputs": [],
      "source": [
        "idx = np.random.choice(x_train2.shape[0], 10000, replace=False)"
      ]
    },
    {
      "cell_type": "code",
      "execution_count": null,
      "id": "6a00fd68-438d-4779-88de-292197ed5134",
      "metadata": {
        "id": "6a00fd68-438d-4779-88de-292197ed5134"
      },
      "outputs": [],
      "source": [
        "sample_x=x_train2[idx, :]\n",
        "sample_y=y_train[idx]"
      ]
    },
    {
      "cell_type": "code",
      "execution_count": null,
      "id": "d7835622-00de-4aea-85bb-f051585a9198",
      "metadata": {
        "id": "d7835622-00de-4aea-85bb-f051585a9198",
        "outputId": "f99c0930-bf97-43ad-8266-f5e67a6978d6"
      },
      "outputs": [
        {
          "data": {
            "text/plain": [
              "1.0"
            ]
          },
          "execution_count": 14,
          "metadata": {},
          "output_type": "execute_result"
        }
      ],
      "source": [
        "# linear \n",
        "model = SVC(kernel='linear')\n",
        "model.fit(sample_x,sample_y)\n",
        "y_pred= model.predict(x_test2)\n",
        "model.score(sample_x,sample_y)"
      ]
    },
    {
      "cell_type": "code",
      "execution_count": null,
      "id": "626a839e-7c2c-4961-88f0-79c2402521a8",
      "metadata": {
        "id": "626a839e-7c2c-4961-88f0-79c2402521a8",
        "outputId": "48d8545c-e37c-446a-b2a7-8611910ea075"
      },
      "outputs": [
        {
          "data": {
            "text/plain": [
              "0.9866666666666667"
            ]
          },
          "execution_count": 15,
          "metadata": {},
          "output_type": "execute_result"
        }
      ],
      "source": [
        "# quadratic\n",
        "model3 = SVC(kernel = 'poly', degree = 2)\n",
        "model3.fit(sample_x,sample_y)\n",
        "model3.score(sample_x,sample_y)"
      ]
    },
    {
      "cell_type": "code",
      "execution_count": null,
      "id": "53880f1b-00e5-433f-802b-de8ac9ec48b0",
      "metadata": {
        "id": "53880f1b-00e5-433f-802b-de8ac9ec48b0",
        "outputId": "a79e37fe-abb9-4f76-b12a-2db265f09f68"
      },
      "outputs": [
        {
          "data": {
            "text/plain": [
              "0.99"
            ]
          },
          "execution_count": 16,
          "metadata": {},
          "output_type": "execute_result"
        }
      ],
      "source": [
        "# exponential \n",
        "model4 = SVC(kernel = 'rbf')\n",
        "model4.fit(sample_x,sample_y)\n",
        "model4.score(sample_x,sample_y)"
      ]
    },
    {
      "cell_type": "markdown",
      "id": "66ce765e-40f2-456d-8ae4-9f0862dd985c",
      "metadata": {
        "id": "66ce765e-40f2-456d-8ae4-9f0862dd985c"
      },
      "source": [
        "advantages and disadvantages of kernels. how each hypermeter in the kernel relates to model flexibility in the context of \n",
        "the bias-variance-tradeoff"
      ]
    },
    {
      "cell_type": "code",
      "execution_count": null,
      "id": "88c4b8dd-efd2-432d-95ea-ebbb17250d75",
      "metadata": {
        "id": "88c4b8dd-efd2-432d-95ea-ebbb17250d75"
      },
      "outputs": [],
      "source": [
        ""
      ]
    }
  ],
  "metadata": {
    "kernelspec": {
      "display_name": "Python 3 (ipykernel)",
      "language": "python",
      "name": "python3"
    },
    "language_info": {
      "codemirror_mode": {
        "name": "ipython",
        "version": 3
      },
      "file_extension": ".py",
      "mimetype": "text/x-python",
      "name": "python",
      "nbconvert_exporter": "python",
      "pygments_lexer": "ipython3",
      "version": "3.8.11"
    },
    "colab": {
      "name": "Support VC.ipynb",
      "provenance": [],
      "include_colab_link": true
    }
  },
  "nbformat": 4,
  "nbformat_minor": 5
}